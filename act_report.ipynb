{
 "cells": [
  {
   "cell_type": "markdown",
   "metadata": {
    "hideCode": false,
    "hidePrompt": false
   },
   "source": [
    "# Act Report"
   ]
  },
  {
   "cell_type": "markdown",
   "metadata": {
    "hideCode": false,
    "hidePrompt": false
   },
   "source": [
    "## Intoduction\n",
    "\n",
    "***In this report I will share my finding after wrangling some datasets regarding a twitter account named WeRateDogs.***\n",
    "\n",
    "***I hope you find those findings helpful.***"
   ]
  },
  {
   "cell_type": "markdown",
   "metadata": {
    "hideCode": false,
    "hidePrompt": false
   },
   "source": [
    "## Findings"
   ]
  },
  {
   "cell_type": "code",
   "execution_count": 12,
   "metadata": {
    "hideCode": false,
    "hidePrompt": false
   },
   "outputs": [],
   "source": [
    "import pandas as pd\n",
    "import numpy as np\n",
    "import matplotlib.pyplot as plt\n",
    "import seaborn as sns\n",
    "%matplotlib inline"
   ]
  },
  {
   "cell_type": "code",
   "execution_count": 13,
   "metadata": {
    "hideCode": false,
    "hidePrompt": false
   },
   "outputs": [],
   "source": [
    "df_master = pd.read_csv('twitter_archive_master.csv')"
   ]
  },
  {
   "cell_type": "markdown",
   "metadata": {
    "hideCode": false,
    "hidePrompt": false
   },
   "source": [
    "### Insights and Visualizations"
   ]
  },
  {
   "cell_type": "code",
   "execution_count": 15,
   "metadata": {
    "hideCode": false,
    "hidePrompt": false
   },
   "outputs": [
    {
     "data": {
      "text/html": [
       "<div>\n",
       "<style scoped>\n",
       "    .dataframe tbody tr th:only-of-type {\n",
       "        vertical-align: middle;\n",
       "    }\n",
       "\n",
       "    .dataframe tbody tr th {\n",
       "        vertical-align: top;\n",
       "    }\n",
       "\n",
       "    .dataframe thead th {\n",
       "        text-align: right;\n",
       "    }\n",
       "</style>\n",
       "<table border=\"1\" class=\"dataframe\">\n",
       "  <thead>\n",
       "    <tr style=\"text-align: right;\">\n",
       "      <th></th>\n",
       "      <th>Unnamed: 0</th>\n",
       "      <th>tweet_id</th>\n",
       "      <th>rating_numerator</th>\n",
       "      <th>rating_denominator</th>\n",
       "      <th>favorite_count</th>\n",
       "      <th>retweet_count</th>\n",
       "      <th>img_num</th>\n",
       "      <th>Prediction_1_conf</th>\n",
       "      <th>Prediction_2_conf</th>\n",
       "      <th>Prediction_3_conf</th>\n",
       "    </tr>\n",
       "  </thead>\n",
       "  <tbody>\n",
       "    <tr>\n",
       "      <th>count</th>\n",
       "      <td>1976.000000</td>\n",
       "      <td>1.976000e+03</td>\n",
       "      <td>1976.000000</td>\n",
       "      <td>1976.0</td>\n",
       "      <td>1976.000000</td>\n",
       "      <td>1976.000000</td>\n",
       "      <td>1976.000000</td>\n",
       "      <td>1976.000000</td>\n",
       "      <td>1.976000e+03</td>\n",
       "      <td>1.976000e+03</td>\n",
       "    </tr>\n",
       "    <tr>\n",
       "      <th>mean</th>\n",
       "      <td>987.500000</td>\n",
       "      <td>7.360217e+17</td>\n",
       "      <td>11.698381</td>\n",
       "      <td>10.0</td>\n",
       "      <td>8921.050607</td>\n",
       "      <td>2769.273785</td>\n",
       "      <td>1.202935</td>\n",
       "      <td>0.593646</td>\n",
       "      <td>1.347591e-01</td>\n",
       "      <td>6.018989e-02</td>\n",
       "    </tr>\n",
       "    <tr>\n",
       "      <th>std</th>\n",
       "      <td>570.566385</td>\n",
       "      <td>6.764193e+16</td>\n",
       "      <td>40.851248</td>\n",
       "      <td>0.0</td>\n",
       "      <td>12248.918997</td>\n",
       "      <td>4682.983010</td>\n",
       "      <td>0.561022</td>\n",
       "      <td>0.272086</td>\n",
       "      <td>1.008010e-01</td>\n",
       "      <td>5.077157e-02</td>\n",
       "    </tr>\n",
       "    <tr>\n",
       "      <th>min</th>\n",
       "      <td>0.000000</td>\n",
       "      <td>6.660209e+17</td>\n",
       "      <td>0.000000</td>\n",
       "      <td>10.0</td>\n",
       "      <td>81.000000</td>\n",
       "      <td>16.000000</td>\n",
       "      <td>1.000000</td>\n",
       "      <td>0.044333</td>\n",
       "      <td>1.011300e-08</td>\n",
       "      <td>1.740170e-10</td>\n",
       "    </tr>\n",
       "    <tr>\n",
       "      <th>25%</th>\n",
       "      <td>493.750000</td>\n",
       "      <td>6.757942e+17</td>\n",
       "      <td>10.000000</td>\n",
       "      <td>10.0</td>\n",
       "      <td>1956.750000</td>\n",
       "      <td>622.750000</td>\n",
       "      <td>1.000000</td>\n",
       "      <td>0.362063</td>\n",
       "      <td>5.411538e-02</td>\n",
       "      <td>1.605498e-02</td>\n",
       "    </tr>\n",
       "    <tr>\n",
       "      <th>50%</th>\n",
       "      <td>987.500000</td>\n",
       "      <td>7.084132e+17</td>\n",
       "      <td>11.000000</td>\n",
       "      <td>10.0</td>\n",
       "      <td>4141.000000</td>\n",
       "      <td>1354.500000</td>\n",
       "      <td>1.000000</td>\n",
       "      <td>0.587440</td>\n",
       "      <td>1.181350e-01</td>\n",
       "      <td>4.952715e-02</td>\n",
       "    </tr>\n",
       "    <tr>\n",
       "      <th>75%</th>\n",
       "      <td>1481.250000</td>\n",
       "      <td>7.881575e+17</td>\n",
       "      <td>12.000000</td>\n",
       "      <td>10.0</td>\n",
       "      <td>11339.750000</td>\n",
       "      <td>3224.250000</td>\n",
       "      <td>1.000000</td>\n",
       "      <td>0.844247</td>\n",
       "      <td>1.955617e-01</td>\n",
       "      <td>9.162278e-02</td>\n",
       "    </tr>\n",
       "    <tr>\n",
       "      <th>max</th>\n",
       "      <td>1975.000000</td>\n",
       "      <td>8.924206e+17</td>\n",
       "      <td>1776.000000</td>\n",
       "      <td>10.0</td>\n",
       "      <td>132810.000000</td>\n",
       "      <td>79515.000000</td>\n",
       "      <td>4.000000</td>\n",
       "      <td>1.000000</td>\n",
       "      <td>4.880140e-01</td>\n",
       "      <td>2.710420e-01</td>\n",
       "    </tr>\n",
       "  </tbody>\n",
       "</table>\n",
       "</div>"
      ],
      "text/plain": [
       "        Unnamed: 0      tweet_id  rating_numerator  rating_denominator  \\\n",
       "count  1976.000000  1.976000e+03       1976.000000              1976.0   \n",
       "mean    987.500000  7.360217e+17         11.698381                10.0   \n",
       "std     570.566385  6.764193e+16         40.851248                 0.0   \n",
       "min       0.000000  6.660209e+17          0.000000                10.0   \n",
       "25%     493.750000  6.757942e+17         10.000000                10.0   \n",
       "50%     987.500000  7.084132e+17         11.000000                10.0   \n",
       "75%    1481.250000  7.881575e+17         12.000000                10.0   \n",
       "max    1975.000000  8.924206e+17       1776.000000                10.0   \n",
       "\n",
       "       favorite_count  retweet_count      img_num  Prediction_1_conf  \\\n",
       "count     1976.000000    1976.000000  1976.000000        1976.000000   \n",
       "mean      8921.050607    2769.273785     1.202935           0.593646   \n",
       "std      12248.918997    4682.983010     0.561022           0.272086   \n",
       "min         81.000000      16.000000     1.000000           0.044333   \n",
       "25%       1956.750000     622.750000     1.000000           0.362063   \n",
       "50%       4141.000000    1354.500000     1.000000           0.587440   \n",
       "75%      11339.750000    3224.250000     1.000000           0.844247   \n",
       "max     132810.000000   79515.000000     4.000000           1.000000   \n",
       "\n",
       "       Prediction_2_conf  Prediction_3_conf  \n",
       "count       1.976000e+03       1.976000e+03  \n",
       "mean        1.347591e-01       6.018989e-02  \n",
       "std         1.008010e-01       5.077157e-02  \n",
       "min         1.011300e-08       1.740170e-10  \n",
       "25%         5.411538e-02       1.605498e-02  \n",
       "50%         1.181350e-01       4.952715e-02  \n",
       "75%         1.955617e-01       9.162278e-02  \n",
       "max         4.880140e-01       2.710420e-01  "
      ]
     },
     "execution_count": 15,
     "metadata": {},
     "output_type": "execute_result"
    }
   ],
   "source": [
    "df_master.describe()"
   ]
  },
  {
   "cell_type": "markdown",
   "metadata": {
    "hideCode": false,
    "hidePrompt": false
   },
   "source": [
    "***The table above shows some helpful informations about the data. First, as table shows, the total is 1976 tweets with avarage of 8921 favorite and 2769 retweets. Also, it shows the avarage rating of dogs, which is approximately 11.7.***\n",
    "\n",
    "***When we look at 50% of the tweets we can see that the number of favurates and retweets are about equaly distreputed betwwen the two halfs. Which can conclude that there are no special event happend that increased the popularity of the account.***"
   ]
  },
  {
   "cell_type": "markdown",
   "metadata": {
    "hideCode": false,
    "hidePrompt": false
   },
   "source": [
    "### What is the most used platform used by WeRateDogs account?"
   ]
  },
  {
   "cell_type": "code",
   "execution_count": 16,
   "metadata": {
    "hideCode": false,
    "hidePrompt": false
   },
   "outputs": [
    {
     "data": {
      "image/png": "[encoded data removed]",
      "text/plain": [
       "<Figure size 576x432 with 1 Axes>"
      ]
     },
     "metadata": {
      "needs_background": "light"
     },
     "output_type": "display_data"
    }
   ],
   "source": [
    "source = ['Twitter for iPhone', 'Twitter Web Client', 'TweetDeck']\n",
    "counts = [2014, 30, 11]\n",
    "\n",
    "fig,ax = plt.subplots(figsize = (8,6))\n",
    "ax.bar(source, counts, width = 0.8)\n",
    "ax.set_ylabel('Number of Tweets')\n",
    "ax.set_xlabel('Platform')\n",
    "plt.title(\"Most Used Platform\")\n",
    "plt.show()"
   ]
  },
  {
   "cell_type": "markdown",
   "metadata": {
    "hideCode": false,
    "hidePrompt": false
   },
   "source": [
    "***We can see clearly that the iphone platform is the most dominant among the others.***"
   ]
  },
  {
   "cell_type": "markdown",
   "metadata": {
    "hideCode": false,
    "hidePrompt": false
   },
   "source": [
    "### What is The Most Popular Dog Name?"
   ]
  },
  {
   "cell_type": "code",
   "execution_count": 17,
   "metadata": {
    "hideCode": false,
    "hidePrompt": false
   },
   "outputs": [
    {
     "data": {
      "text/plain": [
       "None       629\n",
       "Charlie     11\n",
       "Oliver      10\n",
       "Cooper      10\n",
       "Lucy        10\n",
       "          ... \n",
       "Craig        1\n",
       "Ralf         1\n",
       "Nugget       1\n",
       "Lilli        1\n",
       "Charl        1\n",
       "Name: name, Length: 912, dtype: int64"
      ]
     },
     "execution_count": 17,
     "metadata": {},
     "output_type": "execute_result"
    }
   ],
   "source": [
    "df_master['name'].value_counts()"
   ]
  },
  {
   "cell_type": "markdown",
   "metadata": {
    "hideCode": false,
    "hidePrompt": false
   },
   "source": [
    "***It appears that Charlie is the most popular dog name but not by far. Oliver, Cooper and Lucy all come in second place after Charlie.***"
   ]
  },
  {
   "cell_type": "markdown",
   "metadata": {
    "hideCode": false,
    "hidePrompt": false
   },
   "source": [
    "### What Dog Stage Get The Most Tweets?"
   ]
  },
  {
   "cell_type": "code",
   "execution_count": 18,
   "metadata": {
    "hideCode": false,
    "hidePrompt": false
   },
   "outputs": [
    {
     "data": {
      "text/plain": [
       "(-1.2879464954626088,\n",
       " 1.234046017799168,\n",
       " -1.2215265016498433,\n",
       " 1.4192507289661622)"
      ]
     },
     "execution_count": 18,
     "metadata": {},
     "output_type": "execute_result"
    },
    {
     "data": {
      "image/png": "[encoded data removed]",
      "text/plain": [
       "<Figure size 432x288 with 1 Axes>"
      ]
     },
     "metadata": {},
     "output_type": "display_data"
    }
   ],
   "source": [
    "counts = list(df_master[df_master['dog_stage'] != 'None']['dog_stage'].value_counts())[0:5]\n",
    "stages = df_master[df_master['dog_stage'] != 'None']['dog_stage'].value_counts().index.tolist()[0:5]\n",
    "explode = (0.2, 0.1, 0.1, 0.2, 0.3) \n",
    "\n",
    "fig, ax = plt.subplots()\n",
    "ax.pie(counts, explode = explode, labels = stages, shadow = True, startangle = 90)\n",
    "ax.axis('equal')"
   ]
  },
  {
   "cell_type": "markdown",
   "metadata": {
    "hideCode": false,
    "hidePrompt": false
   },
   "source": [
    "***Dogs in Pupper stage get the most tweets***"
   ]
  },
  {
   "cell_type": "markdown",
   "metadata": {
    "hideCode": false,
    "hidePrompt": false
   },
   "source": [
    "### What Dog Breed Get The Most Tweets?"
   ]
  },
  {
   "cell_type": "code",
   "execution_count": 19,
   "metadata": {
    "hideCode": false,
    "hidePrompt": false
   },
   "outputs": [
    {
     "data": {
      "image/png": "[encoded data removed]",
      "text/plain": [
       "<Figure size 432x288 with 1 Axes>"
      ]
     },
     "metadata": {
      "needs_background": "light"
     },
     "output_type": "display_data"
    }
   ],
   "source": [
    "counts = list(df_master[df_master['Prediction_1'] != 'none']['Prediction_1'].value_counts())[0:10]\n",
    "breeds = df_master[df_master['Prediction_1'] != 'none']['Prediction_1'].value_counts().index.tolist()[0:10]\n",
    "\n",
    "\n",
    "plt.barh(breeds, counts)\n",
    "\n",
    "plt.xlabel('Number of Tweets', fontsize = 14)\n",
    "# plt.ylabel('Dog Breed', fontsize = 14)\n",
    "plt.title('Top 10 Dog Breeds by Tweet Count', fontsize = 16)\n",
    "plt.gca().invert_yaxis()\n",
    "plt.show();"
   ]
  },
  {
   "cell_type": "markdown",
   "metadata": {
    "hideCode": false,
    "hidePrompt": false
   },
   "source": [
    "***The bar chart above shows that the Golden Retriever breed is the most breed by tweet count, with 146 tweets.***"
   ]
  },
  {
   "cell_type": "markdown",
   "metadata": {
    "hideCode": false,
    "hidePrompt": false
   },
   "source": [
    "## Conclusion\n",
    "\n",
    "***Those findings supposed to be much harder to find without the data wrangling steps. But by following the data wrangling best practices and the use of the proper tools, the work time is decreased significantly.***"
   ]
  }
 ],
 "metadata": {
  "hide_code_all_hidden": false,
  "kernelspec": {
   "display_name": "Python 3",
   "language": "python",
   "name": "python3"
  },
  "language_info": {
   "codemirror_mode": {
    "name": "ipython",
    "version": 3
   },
   "file_extension": ".py",
   "mimetype": "text/x-python",
   "name": "python",
   "nbconvert_exporter": "python",
   "pygments_lexer": "ipython3",
   "version": "3.7.6"
  }
 },
 "nbformat": 4,
 "nbformat_minor": 4
}
