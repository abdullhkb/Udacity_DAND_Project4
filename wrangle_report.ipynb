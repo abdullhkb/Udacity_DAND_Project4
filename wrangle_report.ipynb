{
 "cells": [
  {
   "cell_type": "markdown",
   "metadata": {},
   "source": [
    "# Wrangle Report"
   ]
  },
  {
   "cell_type": "markdown",
   "metadata": {},
   "source": [
    "## Introduction"
   ]
  },
  {
   "cell_type": "markdown",
   "metadata": {},
   "source": [
    "***    Data wrangling is very important skill a data analyst must have. In this project I wrangled a twitter \n",
    "    account(WeRateDogs) dataset and I encountered very interesting insights and informations that thought\n",
    "    me many things. In this report, I will share the data wrangling approach and steps that I have done to \n",
    "    complete this project.***"
   ]
  },
  {
   "cell_type": "markdown",
   "metadata": {},
   "source": [
    "## Data Wrangling Steps"
   ]
  },
  {
   "cell_type": "markdown",
   "metadata": {},
   "source": [
    "### Gathering\n",
    "***        I started gathering the needed data from differnt resources. First resource was a csv file that been given by Udacity. By using python coding and its libraries such as panda, I was able to read this file and convert it to a proper dataset that I can use later in the wrangling steps.***\n",
    "    \n",
    "***        Second resoruce was by making a request from a URL that was given by Udacity. Also, python has an amazing tool called requests that helped me to send a request to that URL and get the needed data file and then convert it into a dataset.***\n",
    "    \n",
    "***        Lastly, I used twitter API to get some more data about the targeted account(WeRateDogs). And by using tweepy library I was able to access twitter api and extract the data then saving it into a jason.txt file to be used for later.***"
   ]
  },
  {
   "cell_type": "markdown",
   "metadata": {},
   "source": [
    "### Assessing\n",
    "*** Assessing is very important step in data wrangling and was a shining step in this project. There were some occasions that I couldn't clean the data without the assessing. Also, a propper assessing makes the data cleaning much easier and faster.***"
   ]
  },
  {
   "cell_type": "markdown",
   "metadata": {},
   "source": [
    "### Cleaning"
   ]
  },
  {
   "cell_type": "markdown",
   "metadata": {},
   "source": [
    "*** Cleaning the data was fun and satisfing for me as I enjoyed in this step. Cleaning made the dataset much much easier to extract data from, because it prevent many errors that might be encounterd when dealing with uncleaned data.***"
   ]
  },
  {
   "cell_type": "markdown",
   "metadata": {},
   "source": [
    "## Conclusion"
   ]
  },
  {
   "cell_type": "markdown",
   "metadata": {},
   "source": [
    "*** I believe that is the most project I enjoyed in this nanodegree so far. Also, it took the most time. I think I did a decent job in this project and I appreciate the amount of experience I had during the project.***"
   ]
  }
 ],
 "metadata": {
  "kernelspec": {
   "display_name": "Python 3",
   "language": "python",
   "name": "python3"
  },
  "language_info": {
   "codemirror_mode": {
    "name": "ipython",
    "version": 3
   },
   "file_extension": ".py",
   "mimetype": "text/x-python",
   "name": "python",
   "nbconvert_exporter": "python",
   "pygments_lexer": "ipython3",
   "version": "3.7.6"
  }
 },
 "nbformat": 4,
 "nbformat_minor": 4
}
